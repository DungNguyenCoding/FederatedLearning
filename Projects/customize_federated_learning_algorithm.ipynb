{
  "cells": [
    {
      "cell_type": "markdown",
      "metadata": {
        "id": "view-in-github",
        "colab_type": "text"
      },
      "source": [
        "<a href=\"https://colab.research.google.com/github/DungNguyenCoding/FederatedLearning/blob/main/Projects/customize_federated_learning_algorithm.ipynb\" target=\"_parent\"><img src=\"https://colab.research.google.com/assets/colab-badge.svg\" alt=\"Open In Colab\"/></a>"
      ]
    },
    {
      "cell_type": "markdown",
      "metadata": {
        "id": "vkdnLiKk71g-"
      },
      "source": [
        "##### Copyright 2020 The TensorFlow Authors."
      ]
    },
    {
      "cell_type": "code",
      "execution_count": null,
      "metadata": {
        "cellView": "form",
        "id": "0asMuNro71hA"
      },
      "outputs": [],
      "source": [
        "#@title Licensed under the Apache License, Version 2.0 (the \"License\");\n",
        "# you may not use this file except in compliance with the License.\n",
        "# You may obtain a copy of the License at\n",
        "#\n",
        "# https://www.apache.org/licenses/LICENSE-2.0\n",
        "#\n",
        "# Unless required by applicable law or agreed to in writing, software\n",
        "# distributed under the License is distributed on an \"AS IS\" BASIS,\n",
        "# WITHOUT WARRANTIES OR CONDITIONS OF ANY KIND, either express or implied.\n",
        "# See the License for the specific language governing permissions and\n",
        "# limitations under the License."
      ]
    },
    {
      "cell_type": "markdown",
      "metadata": {
        "id": "iPFgLeZIsZ3Q"
      },
      "source": [
        "<table class=\"tfo-notebook-buttons\" align=\"left\">\n",
        "  <td>\n",
        "    <a target=\"_blank\" href=\"https://www.tensorflow.org/federated/tutorials/building_your_own_federated_learning_algorithm\"><img src=\"https://www.tensorflow.org/images/tf_logo_32px.png\" />View on TensorFlow.org</a>\n",
        "  </td>\n",
        "  <td>\n",
        "    <a target=\"_blank\" href=\"https://colab.research.google.com/github/tensorflow/federated/blob/v0.88.0/docs/tutorials/building_your_own_federated_learning_algorithm.ipynb\"><img src=\"https://www.tensorflow.org/images/colab_logo_32px.png\" />Run in Google Colab</a>\n",
        "  </td>\n",
        "  <td>\n",
        "    <a target=\"_blank\" href=\"https://github.com/tensorflow/federated/blob/v0.88.0/docs/tutorials/building_your_own_federated_learning_algorithm.ipynb\"><img src=\"https://www.tensorflow.org/images/GitHub-Mark-32px.png\" />View source on GitHub</a>\n",
        "  </td>\n",
        "  <td>\n",
        "    <a href=\"https://storage.googleapis.com/tensorflow_docs/federated/docs/tutorials/building_your_own_federated_learning_algorithm.ipynb\"><img src=\"https://www.tensorflow.org/images/download_logo_32px.png\" />Download notebook</a>\n",
        "  </td>\n",
        "</table>"
      ]
    },
    {
      "cell_type": "markdown",
      "metadata": {
        "id": "MnUwFbCAKB2r"
      },
      "source": [
        "## Before you start\n",
        "\n",
        "Before you start, please run the following to make sure that your environment is\n",
        "correctly setup. If you don't see a greeting, please refer to the\n",
        "[Installation](../install.md) guide for instructions."
      ]
    },
    {
      "cell_type": "code",
      "source": [
        "!pip uninstall -y tensorflow-federated"
      ],
      "metadata": {
        "id": "vavNPGwlLll3",
        "outputId": "bad6eec7-0a1a-4700-bc04-da5bd9358690",
        "colab": {
          "base_uri": "https://localhost:8080/"
        }
      },
      "execution_count": 3,
      "outputs": [
        {
          "output_type": "stream",
          "name": "stdout",
          "text": [
            "Found existing installation: tensorflow_federated 0.84.0\n",
            "Uninstalling tensorflow_federated-0.84.0:\n",
            "  Successfully uninstalled tensorflow_federated-0.84.0\n"
          ]
        }
      ]
    },
    {
      "cell_type": "code",
      "execution_count": 5,
      "metadata": {
        "id": "ZrGitA_KnRO0"
      },
      "outputs": [],
      "source": [
        "!pip install --quiet --upgrade tensorflow-federated"
      ]
    },
    {
      "cell_type": "code",
      "execution_count": 6,
      "metadata": {
        "id": "HGTM6tWOLo8M"
      },
      "outputs": [],
      "source": [
        "import collections\n",
        "\n",
        "import numpy as np\n",
        "import tensorflow as tf\n",
        "import tensorflow_federated as tff"
      ]
    },
    {
      "cell_type": "markdown",
      "metadata": {
        "id": "4Zv28F7QLo8O"
      },
      "source": [
        "# Customize Federated Learning Algorithm\n",
        "\n",
        "In the image classification notebook, I learned how to set up model and data pipelines for Federated Learning (FL), and performed federated training via the `tff.learning` API layer of TFF.\n",
        "\n",
        "This is only the tip of the iceberg when it comes to FL research. This notebook discusses how to implement federated learning algorithms *without* deferring to the `tff.learning` API.\n",
        "\n",
        "**Goals:**\n",
        "\n",
        "\n",
        "*   Understand the general structure of federated learning algorithms.\n",
        "*   Explore the *Federated Core* of TFF.\n",
        "*   Use the Federated Core to implement Federated Averaging directly.\n"
      ]
    },
    {
      "cell_type": "markdown",
      "metadata": {
        "id": "0CgFLVPgLo8l"
      },
      "source": [
        "# Introduction to the Federated Core\n",
        "\n",
        "The Federated Core (FC) is a set of lower-level interfaces that serve as the foundation for the `tff.learning` API. However, these interfaces are not limited to learning. In fact, they can be used for analytics and many other computations over distributed data.\n",
        "\n",
        "At a high-level, the federated core is a development environment that enables compactly expressed program logic to combine TensorFlow code with distributed communication operators (such as distributed sums and broadcasts). The goal is to give researchers and practitioners explicit control over the distributed communication in their systems, without requiring system implementation details (such as specifying point-to-point network message exchanges).\n",
        "\n",
        "One key point is that TFF is designed for privacy-preservation. Therefore, it allows explicit control over where data resides, to prevent unwanted accumulation of data at the centralized server location."
      ]
    },
    {
      "cell_type": "markdown",
      "metadata": {
        "id": "EYinjNqZLo8l"
      },
      "source": [
        "## Federated data\n",
        "\n",
        "A key concept in TFF is \"federated data\", which refers to a collection of data items hosted across a group of devices in a distributed system (eg. client datasets, or the server model weights). The entire collection of values across all devices is represented as a single *federated value*.\n",
        "\n",
        "For example, suppose there are client devices that each have a float representing the temperature of a sensor. These floats can be represented as a *federated float* by"
      ]
    },
    {
      "cell_type": "code",
      "execution_count": 74,
      "metadata": {
        "id": "7EJY0MHpLo8l"
      },
      "outputs": [],
      "source": [
        "federated_float_on_clients = tff.FederatedType(np.float32, tff.CLIENTS)"
      ]
    },
    {
      "cell_type": "markdown",
      "metadata": {
        "id": "JSQAXD0FLo8n"
      },
      "source": [
        "Federated types are specified by a type `T` of its member constituents (eg. `np.float32`) and a group `G` of devices. Typically, `G` is either `tff.CLIENTS` or `tff.SERVER`. Such a federated type is represented as `{T}@G`, as shown below."
      ]
    },
    {
      "cell_type": "code",
      "execution_count": 75,
      "metadata": {
        "id": "6mlPgubJLo8n",
        "outputId": "decf8390-c1bb-4eb1-bb7a-a47794bd9472",
        "colab": {
          "base_uri": "https://localhost:8080/",
          "height": 35
        }
      },
      "outputs": [
        {
          "output_type": "execute_result",
          "data": {
            "text/plain": [
              "'{float32}@CLIENTS'"
            ],
            "application/vnd.google.colaboratory.intrinsic+json": {
              "type": "string"
            }
          },
          "metadata": {},
          "execution_count": 75
        }
      ],
      "source": [
        "str(federated_float_on_clients)"
      ]
    },
    {
      "cell_type": "markdown",
      "metadata": {
        "id": "pjAQytkeLo8o"
      },
      "source": [
        "Why does TFF care so much about placements? A key goal of TFF is to enable writing code that could be deployed on a real distributed system. This means that it is vital to reason about which subsets of devices execute which code, and where different pieces of data reside.\n",
        "\n",
        "TFF focuses on three things: *data*, where the data is *placed*, and how the data is being *transformed*. The first two are encapsulated in federated types, while the last is encapsulated in *federated computations*."
      ]
    },
    {
      "cell_type": "markdown",
      "source": [
        "## Federated computations"
      ],
      "metadata": {
        "id": "HUUEbzHVbQrV"
      }
    },
    {
      "cell_type": "markdown",
      "metadata": {
        "id": "TveOYFfuLo8s"
      },
      "source": [
        "TFF is a strongly-typed functional programming environment whose basic units are *federated computations*. These are pieces of logic that accept federated values as input, and return federated values as output.\n",
        "\n",
        "For example, suppose you wanted to average the temperatures on our client sensors. You could define the following (using our federated float):"
      ]
    },
    {
      "cell_type": "code",
      "source": [
        "@tff.federated_computation(tff.FederatedType(np.float32, tff.CLIENTS))\n",
        "def get_average_temperature(client_temperatures):\n",
        "  return tff.federated_mean(client_temperatures)"
      ],
      "metadata": {
        "id": "d6ae-t4ubX_u"
      },
      "execution_count": 78,
      "outputs": []
    },
    {
      "cell_type": "markdown",
      "source": [
        "You can think of TFF computations as functions with well-defined type signatures. These type signatures can be directly queried."
      ],
      "metadata": {
        "id": "763fAMJqbhzy"
      }
    },
    {
      "cell_type": "code",
      "source": [
        "str(get_average_temperature.type_signature)"
      ],
      "metadata": {
        "id": "M46rL-DFbkVy",
        "outputId": "16fa42dc-1ff7-4a87-ae1d-435208dffce0",
        "colab": {
          "base_uri": "https://localhost:8080/",
          "height": 35
        }
      },
      "execution_count": 79,
      "outputs": [
        {
          "output_type": "execute_result",
          "data": {
            "text/plain": [
              "'({float32}@CLIENTS -> float32@SERVER)'"
            ],
            "application/vnd.google.colaboratory.intrinsic+json": {
              "type": "string"
            }
          },
          "metadata": {},
          "execution_count": 79
        }
      ]
    },
    {
      "cell_type": "markdown",
      "source": [
        "This `tff.federated_computation` accepts arguments of federated type `{float32}@CLIENTS`, and returns values of federated type `{float32}@SERVER`. Federated computations may also go from server to client, from client to client, or from server to server. Federated computations can also be composed like normal functions, as long as their type signatures match up."
      ],
      "metadata": {
        "id": "7dSlyBnubvl6"
      }
    },
    {
      "cell_type": "markdown",
      "metadata": {
        "id": "3JxQ0DeiLo83"
      },
      "source": [
        "In summary:\n",
        "\n",
        "*   TFF operates on federated values.\n",
        "*   Each federated value has a *federated type*, with a *type* (eg. `np.float32`) and a *placement* (eg. `tff.CLIENTS`).\n",
        "*   Federated values can be transformed using *federated computations*, which must be decorated with `tff.federated_computation` and a federated type signature.\n",
        "*   TensorFlow code must be contained in blocks with `tff.tensorflow.computation` decorators.\n",
        "*   These blocks can then be incorporated into federated computations.\n"
      ]
    },
    {
      "cell_type": "markdown",
      "metadata": {
        "id": "hQ_N9XbULo8P"
      },
      "source": [
        "## Preparing the input data\n",
        "First load and preprocess the EMNIST dataset included in TFF. For more details, see the [image classification](federated_learning_for_image_classification.ipynb) tutorial."
      ]
    },
    {
      "cell_type": "code",
      "execution_count": 7,
      "metadata": {
        "id": "-WdnFluLLo8P",
        "outputId": "f2b63cd6-10ae-4b73-94b2-fadd64162de1",
        "colab": {
          "base_uri": "https://localhost:8080/"
        }
      },
      "outputs": [
        {
          "output_type": "stream",
          "name": "stderr",
          "text": [
            "Downloading emnist_all.sqlite.lzma: 100%|██████████| 170507172/170507172 [00:43<00:00, 3930098.38it/s]\n"
          ]
        }
      ],
      "source": [
        "emnist_train, emnist_test = tff.simulation.datasets.emnist.load_data()"
      ]
    },
    {
      "cell_type": "markdown",
      "metadata": {
        "id": "kq8893GogB8E"
      },
      "source": [
        "In order to feed the dataset into our model, the data is flattened, and each example is converted into a tuple of the form `(flattened_image_vector, label)`."
      ]
    },
    {
      "cell_type": "code",
      "execution_count": 8,
      "metadata": {
        "id": "Blrh8zJgLo8R"
      },
      "outputs": [],
      "source": [
        "NUM_CLIENTS = 10\n",
        "BATCH_SIZE = 20\n",
        "\n",
        "def preprocess(dataset):\n",
        "\n",
        "  def batch_format_fn(element):\n",
        "    \"\"\"Flatten a batch of EMNIST data and return a (features, label) tuple.\"\"\"\n",
        "    return (tf.reshape(element['pixels'], [-1, 784]),\n",
        "            tf.reshape(element['label'], [-1, 1]))\n",
        "\n",
        "  return dataset.batch(BATCH_SIZE).map(batch_format_fn)"
      ]
    },
    {
      "cell_type": "markdown",
      "metadata": {
        "id": "Piy8EzqmgNqV"
      },
      "source": [
        "Now, select a small number of clients, and apply the preprocessing above to their datasets."
      ]
    },
    {
      "cell_type": "code",
      "execution_count": 9,
      "metadata": {
        "id": "-vYM_IT7Lo8W"
      },
      "outputs": [],
      "source": [
        "client_ids = sorted(emnist_train.client_ids)[:NUM_CLIENTS]\n",
        "federated_train_data = [preprocess(emnist_train.create_tf_dataset_for_client(x))\n",
        "  for x in client_ids\n",
        "]"
      ]
    },
    {
      "cell_type": "markdown",
      "metadata": {
        "id": "gNO_Y9j_Lo8X"
      },
      "source": [
        "## Preparing the model"
      ]
    },
    {
      "cell_type": "markdown",
      "metadata": {
        "id": "LJ0I89ixz8yV"
      },
      "source": [
        "This uses the same model as in the image classification notebook. This model (implemented via `tf.keras`) has a single hidden layer, followed by a softmax layer."
      ]
    },
    {
      "cell_type": "code",
      "execution_count": 10,
      "metadata": {
        "id": "Yfld4oFNLo8Y"
      },
      "outputs": [],
      "source": [
        "def create_keras_model():\n",
        "  initializer = tf.keras.initializers.GlorotNormal(seed=0)\n",
        "  return tf.keras.models.Sequential([\n",
        "      tf.keras.layers.Input(shape=(784,)),\n",
        "      tf.keras.layers.Dense(10, kernel_initializer=initializer),\n",
        "      tf.keras.layers.Softmax(),\n",
        "  ])"
      ]
    },
    {
      "cell_type": "markdown",
      "metadata": {
        "id": "vLln0Q8G0Bky"
      },
      "source": [
        "In order to use this model in TFF, wrap the Keras model as a [`tff.learning.models.FunctionalModel`](https://www.tensorflow.org/federated/api_docs/python/tff/learning/models/FunctionalModel). This allows one to perform the model's [forward pass](https://www.tensorflow.org/federated/api_docs/python/tff/learning/models/FunctionalModel#predict_on_batch) within TFF, and [extract model outputs](https://www.tensorflow.org/federated/api_docs/python/tff/learning/models/FunctionalModel#finalize_metrics). For more details, also see the image classification notebook."
      ]
    },
    {
      "cell_type": "code",
      "execution_count": 11,
      "metadata": {
        "id": "SPwbipTNLo8a"
      },
      "outputs": [],
      "source": [
        "keras_model = create_keras_model()\n",
        "tff_model = tff.learning.models.functional_model_from_keras(\n",
        "    keras_model,\n",
        "    loss_fn=tf.keras.losses.SparseCategoricalCrossentropy(),\n",
        "    input_spec=federated_train_data[0].element_spec,\n",
        "    metrics_constructor=collections.OrderedDict(\n",
        "        accuracy=tf.keras.metrics.SparseCategoricalAccuracy\n",
        "    ),\n",
        ")"
      ]
    },
    {
      "cell_type": "markdown",
      "metadata": {
        "id": "pCxa44rFiere"
      },
      "source": [
        "While the above used `tf.keras` to create a `tff.learning.models.FunctionalModel`, TFF supports much more general models. These models have the following relevant attributes capturing the model weights:\n",
        "\n",
        "*   `trainable_variables`: An iterable of the tensors corresponding to trainable layers.\n",
        "*   `non_trainable_variables`: An iterable of the tensors corresponding to non-trainable layers.\n",
        "\n",
        "In this tutorial, only the `trainable_variables` will be used (as the model only has those!)."
      ]
    },
    {
      "cell_type": "markdown",
      "metadata": {
        "id": "fPOWP2JjsfTk"
      },
      "source": [
        "# Building your own Federated Learning algorithm\n",
        "\n",
        "While the `tff.learning` API allows one to create many variants of Federated Averaging, there are other federated algorithms that do not fit neatly into this framework. For example, you may want to add regularization, clipping, or more complicated algorithms such as [federated GAN training](https://github.com/tensorflow/federated/tree/main/tensorflow_federated/python/research/gans). You may also be instead be interested in [federated analytics](https://ai.googleblog.com/2020/05/federated-analytics-collaborative-data.html)."
      ]
    },
    {
      "cell_type": "markdown",
      "metadata": {
        "id": "50N36Zz8qyY-"
      },
      "source": [
        "For these more advanced algorithms, you'll have to write our own custom algorithm using TFF. In many cases, federated algorithms have 4 main components:\n",
        "\n",
        "1. A server-to-client broadcast step.\n",
        "2. A local client update step.\n",
        "3. A client-to-server upload step.\n",
        "4. A server update step."
      ]
    },
    {
      "cell_type": "markdown",
      "metadata": {
        "id": "jH8s0GRdQt3b"
      },
      "source": [
        "In TFF, a federated algorithm is typically represented as a [`tff.templates.IterativeProcess`](https://www.tensorflow.org/federated/api_docs/python/tff/templates/IterativeProcess) (which will be referred to as just an `IterativeProcess` throughout). This is a class that contains `initialize` and `next` functions. Here, `initialize` is used to initialize the server, and `next` will perform one communication round of the federated algorithm. Let's write a skeleton of what our iterative process for FedAvg should look like."
      ]
    },
    {
      "cell_type": "markdown",
      "source": [
        "First, let's write a sketch of the `next_fn`."
      ],
      "metadata": {
        "id": "NzTirf4fcrW7"
      }
    },
    {
      "cell_type": "code",
      "source": [
        "# def next_fn(server_weights, federated_dataset):\n",
        "\n",
        "#   1/ Broadcast the server weights to the clients.\n",
        "#   server_weights_at_client = broadcast(server_weights)\n",
        "\n",
        "#   2/ Each client computes their updated weights.\n",
        "#   client_weights = client_update(federated_dataset, server_weights_at_client)\n",
        "\n",
        "#   3/ The server averages these updates.\n",
        "#   mean_client_weights = mean(client_weights)\n",
        "\n",
        "#   4/ The server updates its model.\n",
        "#   server_weights = server_update(mean_client_weights)\n",
        "\n",
        "#   return server_weights"
      ],
      "metadata": {
        "id": "uP9-hO-Zcwmq"
      },
      "execution_count": 80,
      "outputs": []
    },
    {
      "cell_type": "markdown",
      "source": [
        "Let's focus on implementing these four components separately. First, let's focus on the parts that can be implemented in pure TensorFlow, namely the client and server update steps."
      ],
      "metadata": {
        "id": "uZJXPAzec0Rt"
      }
    },
    {
      "cell_type": "markdown",
      "metadata": {
        "id": "3yKS4VkALo8g"
      },
      "source": [
        "## TensorFlow Blocks"
      ]
    },
    {
      "cell_type": "markdown",
      "metadata": {
        "id": "bxpNYucgLo8g"
      },
      "source": [
        "### Client update\n",
        "\n",
        "The `tff.learning.models.FunctionalModel` can be used to do client training in essentially the same way you would train a TensorFlow model. In particular, one can use `tf.GradientTape` to compute the gradient on batches of data, then apply these gradient using a `client_optimizer`. This will only involve the trainable weights.\n"
      ]
    },
    {
      "cell_type": "markdown",
      "source": [
        "**Summary**\\\n",
        "This function:\n",
        "- Mimics what each client does during a federated training round.\n",
        "- Applies gradient-based updates locally, without communicating with the server.\n",
        "- Is essential for customizing federated training beyond the default TFF algorithms."
      ],
      "metadata": {
        "id": "l5czYwG4XiCa"
      }
    },
    {
      "cell_type": "code",
      "execution_count": 81,
      "metadata": {
        "id": "c5rHPKreLo8g"
      },
      "outputs": [],
      "source": [
        "@tf.function\n",
        "def client_update(model, dataset, initial_weights, client_optimizer):\n",
        "  \"\"\"Performs training (using the server model weights) on the client's dataset.\"\"\"\n",
        "  # Initialize the client model with the current server weights and the optimizer state.\n",
        "  ## Copies the trainable part of the global model weights sent by the server.\n",
        "  client_weights = initial_weights.trainable\n",
        "  ## Initializes the optimizer state (e.g., momentum variables).\n",
        "  optimizer_state = client_optimizer.initialize(\n",
        "      tf.nest.map_structure(tf.TensorSpec.from_tensor, client_weights)\n",
        "  )\n",
        "\n",
        "  # Use the client_optimizer to update the local model\n",
        "  for batch in dataset:\n",
        "    x, y = batch\n",
        "    with tf.GradientTape() as tape:\n",
        "      tape.watch(client_weights)\n",
        "      # Compute a forward pass on the batch of data\n",
        "      ## Passes inputs x through the model to get predictions\n",
        "      outputs = model.predict_on_batch(\n",
        "          model_weights=(client_weights, ()), x=x, training=True\n",
        "      )\n",
        "      # Computes the loss using SparseCategoricalCrossentropy\n",
        "      loss = model.loss(output=outputs, label=y)\n",
        "\n",
        "    # Compute the corresponding gradient\n",
        "    grads = tape.gradient(loss, client_weights)\n",
        "\n",
        "    # Updates model weights using the gradients via the optimize\n",
        "    optimizer_state, client_weights = client_optimizer.next(\n",
        "        optimizer_state, weights=client_weights, gradients=grads\n",
        "    )\n",
        "\n",
        "  return tff.learning.models.ModelWeights(client_weights, non_trainable=())"
      ]
    },
    {
      "cell_type": "markdown",
      "metadata": {
        "id": "pP0D9XtoLo8i"
      },
      "source": [
        "### Server Update\n",
        "\n",
        "The server update for FedAvg is simpler than the client update. This tutorial will implement \"vanilla\" federated averaging, in which the server model weights are replaced by the average of the client model weights. Again, this only uses the trainable weights."
      ]
    },
    {
      "cell_type": "code",
      "execution_count": 52,
      "metadata": {
        "id": "rYxErLvHLo8i"
      },
      "outputs": [],
      "source": [
        "@tf.function\n",
        "def server_update(model, mean_client_weights):\n",
        "  \"\"\"Updates the server model weights as the average of the client model weights.\"\"\"\n",
        "  del model  # Unused, just take the mean_client_weights.\n",
        "  return mean_client_weights"
      ]
    },
    {
      "cell_type": "markdown",
      "metadata": {
        "id": "ddCklfWlVr1U"
      },
      "source": [
        "The snippet could be simplified by simply returning the `mean_client_weights`. However, more advanced implementations of Federated Averaging use `mean_client_weights` with more sophisticated techniques, such as momentum or adaptivity."
      ]
    },
    {
      "cell_type": "markdown",
      "metadata": {
        "id": "KuP9g6RFLo8k"
      },
      "source": [
        "So far, this has only involved TensorFlow code. This is by design, as TFF allows you to use much of the TensorFlow code you're already familiar with. Next you will have to specify the **orchestration logic**, that is, the logic that dictates what the server broadcasts to the client, and what the client uploads to the server, which will require the *Federated Core* of TFF."
      ]
    },
    {
      "cell_type": "markdown",
      "metadata": {
        "id": "PvyFWox3Lo83"
      },
      "source": [
        "In order to make our algorithm a federated computation, you will need both the `next_fn` and `initialize_fn` to each be a `tff.federated_computation`."
      ]
    },
    {
      "cell_type": "markdown",
      "metadata": {
        "id": "CvY8fh1cLo84"
      },
      "source": [
        "## TensorFlow Federated blocks"
      ]
    },
    {
      "cell_type": "markdown",
      "metadata": {
        "id": "g0zNTO7LLo84"
      },
      "source": [
        "### Creating the initialization computation\n",
        "\n",
        "The initialize function will be quite simple: You will create a model using `model_fn`. However, remember that you must separate out our TensorFlow code using `tff.tensorflow.computation`."
      ]
    },
    {
      "cell_type": "code",
      "execution_count": 82,
      "metadata": {
        "id": "jJY9xUBZLo84"
      },
      "outputs": [],
      "source": [
        "@tff.tensorflow.computation\n",
        "def server_init():\n",
        "  # Returns the initial model weights of the Keras model (trainable and non-trainable).\n",
        "  return tff.learning.models.ModelWeights(*tff_model.initial_weights)"
      ]
    },
    {
      "cell_type": "markdown",
      "metadata": {
        "id": "SGlv8LLgLo85"
      },
      "source": [
        "You can then pass this directly into a federated computation using `tff.federated_value`."
      ]
    },
    {
      "cell_type": "code",
      "execution_count": 54,
      "metadata": {
        "id": "m2hinzuRLo86"
      },
      "outputs": [],
      "source": [
        "@tff.federated_computation\n",
        "def initialize_fn():\n",
        "  return tff.federated_eval(server_init, tff.SERVER)"
      ]
    },
    {
      "cell_type": "markdown",
      "metadata": {
        "id": "NFBghOgxLo88"
      },
      "source": [
        "### Creating the `next_fn`\n",
        "\n",
        "The client and server update code can now be used to write the actual algorithm. First, you will turn the `client_update` into a `tff.tensorflow.computation` that accepts a client datasets and server weights, and outputs an updated client weights tensor.\n",
        "\n",
        "You will need the corresponding types to properly decorate our function. Luckily, the type of the server weights can be extracted directly from our model."
      ]
    },
    {
      "cell_type": "code",
      "execution_count": 55,
      "metadata": {
        "id": "ph_noHN2Lo88"
      },
      "outputs": [],
      "source": [
        "tf_dataset_type = tff.SequenceType(\n",
        "    tff.types.tensorflow_to_type(tff_model.input_spec)\n",
        ")"
      ]
    },
    {
      "cell_type": "markdown",
      "metadata": {
        "id": "WMPgpTaW66qx"
      },
      "source": [
        "Let's look at the dataset type signature. Remember that you took 28 by 28 images (with integer labels) and flattened them."
      ]
    },
    {
      "cell_type": "code",
      "execution_count": 56,
      "metadata": {
        "id": "GE2sYVA9G2mE",
        "outputId": "4862e6a9-743a-4344-ff67-696094c6f7e8",
        "colab": {
          "base_uri": "https://localhost:8080/",
          "height": 35
        }
      },
      "outputs": [
        {
          "output_type": "execute_result",
          "data": {
            "text/plain": [
              "'<float32[?,784],int32[?,1]>*'"
            ],
            "application/vnd.google.colaboratory.intrinsic+json": {
              "type": "string"
            }
          },
          "metadata": {},
          "execution_count": 56
        }
      ],
      "source": [
        "str(tf_dataset_type)"
      ]
    },
    {
      "cell_type": "markdown",
      "metadata": {
        "id": "kuS8d0BHLo8-"
      },
      "source": [
        "You can also extract the model weights type by using our `server_init` function above."
      ]
    },
    {
      "cell_type": "code",
      "execution_count": 57,
      "metadata": {
        "id": "4yx6CExMLo8-"
      },
      "outputs": [],
      "source": [
        "model_weights_type = server_init.type_signature.result"
      ]
    },
    {
      "cell_type": "markdown",
      "metadata": {
        "id": "mS-Eh6Xj7J15"
      },
      "source": [
        "Examining the type signature, you'll be able to see the architecture of our model!"
      ]
    },
    {
      "cell_type": "code",
      "execution_count": 58,
      "metadata": {
        "id": "_s8eFsyvG2mE",
        "outputId": "8a44b202-0ad8-4d4a-d9fb-7604701817d3",
        "colab": {
          "base_uri": "https://localhost:8080/",
          "height": 35
        }
      },
      "outputs": [
        {
          "output_type": "execute_result",
          "data": {
            "text/plain": [
              "'<trainable=<float32[784,10],float32[10]>,non_trainable=<>>'"
            ],
            "application/vnd.google.colaboratory.intrinsic+json": {
              "type": "string"
            }
          },
          "metadata": {},
          "execution_count": 58
        }
      ],
      "source": [
        "str(model_weights_type)"
      ]
    },
    {
      "cell_type": "markdown",
      "metadata": {
        "id": "g1U1wTGRLo8_"
      },
      "source": [
        "You can now create our `tff.tensorflow.computation` for the client update."
      ]
    },
    {
      "cell_type": "code",
      "execution_count": 83,
      "metadata": {
        "id": "Q0W05pMWLo9A"
      },
      "outputs": [],
      "source": [
        "@tff.tensorflow.computation(tf_dataset_type, model_weights_type)\n",
        "def client_update_fn(tf_dataset, server_weights):\n",
        "  client_optimizer = tff.learning.optimizers.build_sgdm(learning_rate=0.01)\n",
        "  # Uses client_update() to train locally on tf_dataset, starting from server_weights\n",
        "  # Returns updated weights from the client.\n",
        "  return client_update(tff_model, tf_dataset, server_weights, client_optimizer)"
      ]
    },
    {
      "cell_type": "markdown",
      "metadata": {
        "id": "uP5quaAuLo9B"
      },
      "source": [
        "The `tff.tensorflow.computation` version of the server update can be defined in a similar way, using types you've already extracted."
      ]
    },
    {
      "cell_type": "code",
      "execution_count": 84,
      "metadata": {
        "id": "F4WvQtVzLo9B"
      },
      "outputs": [],
      "source": [
        "@tff.tensorflow.computation(model_weights_type)\n",
        "def server_update_fn(mean_client_weights):\n",
        "  # Runs on the server after aggregating the client weights\n",
        "  # Just returns the mean client weights as the new server model.\n",
        "  return server_update(tff_model, mean_client_weights)"
      ]
    },
    {
      "cell_type": "markdown",
      "metadata": {
        "id": "SImhLbu4Lo9D"
      },
      "source": [
        "Last, but not least, you need to create the `tff.federated_computation` that brings this all together. This function will accept two *federated values*, one corresponding to the server weights (with placement `tff.SERVER`), and the other corresponding to the client datasets (with placement `tff.CLIENTS`).\n",
        "\n",
        "Note that both these types were defined above! You simply need to give them the proper placement using `tff.FederatedType`."
      ]
    },
    {
      "cell_type": "code",
      "execution_count": 61,
      "metadata": {
        "id": "ekPsA8AsLo9D"
      },
      "outputs": [],
      "source": [
        "federated_server_type = tff.FederatedType(model_weights_type, tff.SERVER)\n",
        "federated_dataset_type = tff.FederatedType(tf_dataset_type, tff.CLIENTS)"
      ]
    },
    {
      "cell_type": "markdown",
      "metadata": {
        "id": "7FXAX7vGLo9G"
      },
      "source": [
        "Reminder:\n",
        "\n",
        "1. A server-to-client broadcast step.\n",
        "2. A local client update step.\n",
        "3. A client-to-server upload step.\n",
        "4. A server update step.\n",
        "\n",
        "Now that you've built up the above, each part can be compactly represented as a single line of TFF code. This simplicity is why you had to take extra care to specify things such as federated types!"
      ]
    },
    {
      "cell_type": "code",
      "execution_count": 85,
      "metadata": {
        "id": "Epc7MwfELo9G"
      },
      "outputs": [],
      "source": [
        "@tff.federated_computation(federated_server_type, federated_dataset_type)\n",
        "# server_weights: The model on the server (@SERVER)\n",
        "# federated_dataset: A list of datasets (one per client, @CLIENTS)\n",
        "def next_fn(server_weights, federated_dataset):\n",
        "  # Broadcast the server weights to all clients.\n",
        "  server_weights_at_client = tff.federated_broadcast(server_weights)\n",
        "\n",
        "  # Each client uses its local dataset and the received weights to train using client_update_fn\n",
        "  # Returns updated weights from each client.\n",
        "  client_weights = tff.federated_map(\n",
        "      client_update_fn, (federated_dataset, server_weights_at_client)\n",
        "  )\n",
        "\n",
        "  # Aggregates all clients’ updated weights by averaging them.\n",
        "  mean_client_weights = tff.federated_mean(client_weights)\n",
        "\n",
        "  # Update Server Model with Averaged Weights\n",
        "  server_weights = tff.federated_map(server_update_fn, mean_client_weights)\n",
        "\n",
        "  return server_weights"
      ]
    },
    {
      "cell_type": "markdown",
      "metadata": {
        "id": "kWomG3TtLo9I"
      },
      "source": [
        "You now have a `tff.federated_computation` for both the algorithm initialization, and for running one step of the algorithm. To finish our algorithm, you pass these into `tff.templates.IterativeProcess`."
      ]
    },
    {
      "cell_type": "code",
      "execution_count": 86,
      "metadata": {
        "id": "GxdWgEddLo9I"
      },
      "outputs": [],
      "source": [
        "federated_algorithm = tff.templates.IterativeProcess(\n",
        "    initialize_fn=initialize_fn,\n",
        "    next_fn=next_fn\n",
        ")"
      ]
    },
    {
      "cell_type": "markdown",
      "metadata": {
        "id": "7Z__9k-Dc1I3"
      },
      "source": [
        "Let's look at the *type signature* of the `initialize` and `next` functions of our iterative process."
      ]
    },
    {
      "cell_type": "code",
      "execution_count": 88,
      "metadata": {
        "id": "EmyYgDNdG2mF",
        "outputId": "a4a358d9-0d34-416e-eed7-914140d55c32",
        "colab": {
          "base_uri": "https://localhost:8080/",
          "height": 35
        }
      },
      "outputs": [
        {
          "output_type": "execute_result",
          "data": {
            "text/plain": [
              "'( -> <trainable=<float32[784,10],float32[10]>,non_trainable=<>>@SERVER)'"
            ],
            "application/vnd.google.colaboratory.intrinsic+json": {
              "type": "string"
            }
          },
          "metadata": {},
          "execution_count": 88
        }
      ],
      "source": [
        "str(federated_algorithm.initialize.type_signature)"
      ]
    },
    {
      "cell_type": "markdown",
      "metadata": {
        "id": "UyyEi5Kec90_"
      },
      "source": [
        "What it means:\n",
        "- `( -> ...)`: This function takes no arguments.\n",
        "- `<trainable=..., non_trainable=...>`: It returns a structure (a `ModelWeights` object) with:\n",
        "  - `trainable`: the trainable parameters of the model.\n",
        "    - A weights matrix: `float32[784,10]` → from input of size 784 (flattened image) to 10 output classes.\n",
        "    - A bias vector: float32[10]\n",
        "  - `non_trainable`: an empty tuple (<>) — meaning the model has no non-trainable weights.\n",
        "- `@SERVER`: This output lives on the server."
      ]
    },
    {
      "cell_type": "code",
      "execution_count": 65,
      "metadata": {
        "id": "ZRwHwQsCG2mG",
        "outputId": "a35809a3-63c8-4b25-b8dd-7c6f338f369e",
        "colab": {
          "base_uri": "https://localhost:8080/",
          "height": 53
        }
      },
      "outputs": [
        {
          "output_type": "execute_result",
          "data": {
            "text/plain": [
              "'(<server_weights=<trainable=<float32[784,10],float32[10]>,non_trainable=<>>@SERVER,federated_dataset={<float32[?,784],int32[?,1]>*}@CLIENTS> -> <trainable=<float32[784,10],float32[10]>,non_trainable=<>>@SERVER)'"
            ],
            "application/vnd.google.colaboratory.intrinsic+json": {
              "type": "string"
            }
          },
          "metadata": {},
          "execution_count": 65
        }
      ],
      "source": [
        "str(federated_algorithm.next.type_signature)"
      ]
    },
    {
      "cell_type": "markdown",
      "source": [
        "**Input**\n",
        "\n",
        "The function takes a pair:\n",
        "\n",
        "1. **`server_weights`**:\n",
        "   - **Location**: `@SERVER`\n",
        "   - **Type**: a `ModelWeights` structure:\n",
        "     - `trainable`: two tensors:\n",
        "       - `float32[784,10]` → dense layer weights (784 inputs → 10 classes).\n",
        "       - `float32[10]` → biases.\n",
        "     - `non_trainable`: empty.\n",
        "\n",
        "2. **`federated_dataset`**:\n",
        "   - **Location**: `@CLIENTS`\n",
        "   - **Type**: per-client dataset of tuples:\n",
        "     - `float32[?,784]` → batch of flattened EMNIST images.\n",
        "     - `int32[?,1]` → batch of labels.\n",
        "   - The `*` means it's a federated value — one dataset per client.\n",
        "\n",
        "---\n",
        "\n",
        "**Output**\n",
        "\n",
        "- Returns: updated `server_weights` (i.e., new model weights after aggregation).\n",
        "- **Location**: `@SERVER`\n",
        "\n"
      ],
      "metadata": {
        "id": "Z5xSbTl7iQ1S"
      }
    },
    {
      "cell_type": "markdown",
      "metadata": {
        "id": "efpdHodmdU_6"
      },
      "source": [
        "Here, one can see that `federated_algorithm.next` accepts a server model and client data, and returns an updated server model."
      ]
    },
    {
      "cell_type": "markdown",
      "metadata": {
        "id": "4UYZ3qeMLo9N"
      },
      "source": [
        "## Evaluating the algorithm"
      ]
    },
    {
      "cell_type": "markdown",
      "metadata": {
        "id": "jwd9Gs0ULo9O"
      },
      "source": [
        "Let's run a few rounds, and see how the loss changes. First, you will define an evaluation function using the *centralized* approach discussed in the second tutorial.\n",
        "\n",
        "You will first create a centralized evaluation dataset, and then apply the same preprocessing you used for the training data."
      ]
    },
    {
      "cell_type": "code",
      "execution_count": 90,
      "metadata": {
        "id": "EdNgYoIwLo9P"
      },
      "outputs": [],
      "source": [
        "# Combines all client test datasets in the emnist_test federated dataset into one centralized tf.data.Dataset.\n",
        "central_emnist_test = emnist_test.create_tf_dataset_from_all_clients()\n",
        "central_emnist_test = preprocess(central_emnist_test)"
      ]
    },
    {
      "cell_type": "markdown",
      "metadata": {
        "id": "7R50NZ35dphE"
      },
      "source": [
        "Next, you will write a function that accepts a server state, and uses Keras to evaluate on the test dataset. If you're familiar with `tf.Keras`, this will all look familiar, though note the use of `set_weights`!"
      ]
    },
    {
      "cell_type": "code",
      "execution_count": 93,
      "metadata": {
        "id": "I5UEX4EWLo9Q"
      },
      "outputs": [],
      "source": [
        "def evaluate(model_weights):\n",
        "  keras_model = create_keras_model()\n",
        "  keras_model.compile(\n",
        "      loss=tf.keras.losses.SparseCategoricalCrossentropy(),\n",
        "      metrics=[tf.keras.metrics.SparseCategoricalAccuracy()],\n",
        "  )\n",
        "  model_weights.assign_weights_to(keras_model)\n",
        "  results = keras_model.evaluate(central_emnist_test, return_dict=True)\n",
        "  return results"
      ]
    },
    {
      "cell_type": "markdown",
      "metadata": {
        "id": "hygoBACkLo9S"
      },
      "source": [
        "Now, let's initialize our algorithm and evaluate on the test set."
      ]
    },
    {
      "cell_type": "code",
      "execution_count": 98,
      "metadata": {
        "id": "CDarZn71G2mH",
        "outputId": "3e1f409f-2cdd-4389-b39b-03d5327171ea",
        "colab": {
          "base_uri": "https://localhost:8080/"
        }
      },
      "outputs": [
        {
          "output_type": "stream",
          "name": "stdout",
          "text": [
            "2042/2042 [==============================] - 8s 4ms/step - loss: 2.8479 - sparse_categorical_accuracy: 0.1027\n"
          ]
        },
        {
          "output_type": "execute_result",
          "data": {
            "text/plain": [
              "{'loss': 2.847879648208618, 'sparse_categorical_accuracy': 0.10268906503915787}"
            ]
          },
          "metadata": {},
          "execution_count": 98
        }
      ],
      "source": [
        "server_state = federated_algorithm.initialize()\n",
        "\n",
        "model_weights = tff.learning.models.ModelWeights(\n",
        "    trainable=server_state.trainable,\n",
        "    non_trainable=server_state.non_trainable,\n",
        ")\n",
        "\n",
        "evaluate(model_weights)\n"
      ]
    },
    {
      "cell_type": "markdown",
      "metadata": {
        "id": "2knqix2cLo9U"
      },
      "source": [
        "Let's train for a few rounds and see if anything changes."
      ]
    },
    {
      "cell_type": "code",
      "source": [
        "for _ in range(15):\n",
        "  server_state = federated_algorithm.next(server_state, federated_train_data)\n",
        "evaluate(server_state)"
      ],
      "metadata": {
        "id": "SMzlZJrUm-3Y",
        "outputId": "d1f7f69d-50d3-41c1-d274-199cc10a1b7f",
        "colab": {
          "base_uri": "https://localhost:8080/"
        }
      },
      "execution_count": 99,
      "outputs": [
        {
          "output_type": "stream",
          "name": "stdout",
          "text": [
            "2042/2042 [==============================] - 10s 5ms/step - loss: 2.5867 - sparse_categorical_accuracy: 0.0980\n"
          ]
        },
        {
          "output_type": "execute_result",
          "data": {
            "text/plain": [
              "{'loss': 2.5866878032684326, 'sparse_categorical_accuracy': 0.0979623794555664}"
            ]
          },
          "metadata": {},
          "execution_count": 99
        }
      ]
    },
    {
      "cell_type": "code",
      "execution_count": 95,
      "metadata": {
        "id": "v1zBlzFILo9U",
        "outputId": "90c204da-9433-4c17-8688-44c3f7c8dbab",
        "colab": {
          "base_uri": "https://localhost:8080/",
          "height": 622
        }
      },
      "outputs": [
        {
          "output_type": "stream",
          "name": "stdout",
          "text": [
            "Evaluating at round 10...\n",
            "Evaluating at round 20...\n",
            "Evaluating at round 30...\n",
            "Evaluating at round 40...\n",
            "Evaluating at round 50...\n",
            "Evaluating at round 60...\n",
            "Evaluating at round 70...\n",
            "Evaluating at round 80...\n",
            "Evaluating at round 90...\n",
            "Evaluating at round 100...\n"
          ]
        },
        {
          "output_type": "display_data",
          "data": {
            "text/plain": [
              "<Figure size 1200x500 with 2 Axes>"
            ],
            "image/png": "[encoded data removed]"
          },
          "metadata": {}
        }
      ],
      "source": [
        "import matplotlib.pyplot as plt\n",
        "\n",
        "# Prepare storage for evaluation results\n",
        "rounds = []\n",
        "losses = []\n",
        "accuracies = []\n",
        "\n",
        "# Number of training rounds\n",
        "NUM_ROUNDS = 100\n",
        "\n",
        "# Start with initialized server state\n",
        "server_state = federated_algorithm.initialize()\n",
        "\n",
        "# Training and evaluation loop\n",
        "for round_num in range(1, NUM_ROUNDS + 1):\n",
        "    # Run one round of training\n",
        "    server_state = federated_algorithm.next(server_state, federated_train_data)\n",
        "\n",
        "    # Evaluate every 10 rounds\n",
        "    if round_num % 10 == 0:\n",
        "        print(f\"Evaluating at round {round_num}...\")\n",
        "        model_weights = server_state  # Contains trainable and non_trainable\n",
        "        keras_model = create_keras_model()\n",
        "        keras_model.compile(\n",
        "            loss=tf.keras.losses.SparseCategoricalCrossentropy(),\n",
        "            metrics=[tf.keras.metrics.SparseCategoricalAccuracy()],\n",
        "        )\n",
        "        model_weights.assign_weights_to(keras_model)\n",
        "\n",
        "        eval_results = keras_model.evaluate(central_emnist_test, verbose=0, return_dict=True)\n",
        "\n",
        "        rounds.append(round_num)\n",
        "        losses.append(eval_results['loss'])\n",
        "        accuracies.append(eval_results['sparse_categorical_accuracy'])\n",
        "\n",
        "# Plotting evaluation metrics\n",
        "plt.figure(figsize=(12, 5))\n",
        "\n",
        "# Loss plot\n",
        "plt.subplot(1, 2, 1)\n",
        "plt.plot(rounds, losses, marker='o')\n",
        "plt.title(\"Evaluation Loss every 10 Rounds\")\n",
        "plt.xlabel(\"Round\")\n",
        "plt.ylabel(\"Loss\")\n",
        "plt.grid(True)\n",
        "plt.annotate(f\"Start: {losses[0]:.4f}\", (rounds[0], losses[0]), textcoords=\"offset points\", xytext=(0,10), ha='center')\n",
        "plt.annotate(f\"End: {losses[-1]:.4f}\", (rounds[-1], losses[-1]), textcoords=\"offset points\", xytext=(0,10), ha='center')\n",
        "\n",
        "# Accuracy plot\n",
        "plt.subplot(1, 2, 2)\n",
        "plt.plot(rounds, accuracies, marker='o', color='green')\n",
        "plt.title(\"Evaluation Accuracy every 10 Rounds\")\n",
        "plt.xlabel(\"Round\")\n",
        "plt.ylabel(\"Accuracy\")\n",
        "plt.grid(True)\n",
        "plt.annotate(f\"Start: {accuracies[0]:.4f}\", (rounds[0], accuracies[0]), textcoords=\"offset points\", xytext=(0,10), ha='center')\n",
        "plt.annotate(f\"End: {accuracies[-1]:.4f}\", (rounds[-1], accuracies[-1]), textcoords=\"offset points\", xytext=(0,10), ha='center')\n",
        "\n",
        "plt.tight_layout()\n",
        "plt.show()\n"
      ]
    }
  ],
  "metadata": {
    "colab": {
      "name": "building_your_own_federated_learning_algorithm.ipynb",
      "toc_visible": true,
      "provenance": [],
      "include_colab_link": true
    },
    "kernelspec": {
      "display_name": "Python 3",
      "name": "python3"
    }
  },
  "nbformat": 4,
  "nbformat_minor": 0
}